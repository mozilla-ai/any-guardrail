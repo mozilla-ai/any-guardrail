{
 "cells": [
  {
   "cell_type": "markdown",
   "id": "6f4c4534",
   "metadata": {},
   "source": [
    "# Customer Service Policy Guardrail\n",
    "\n",
    "[![Open In Colab](https://colab.research.google.com/assets/colab-badge.svg)](https://colab.research.google.com/github/mozilla-ai/any-guardrail/blob/main/docs/cookbook/customer_service_policy_guardrail.ipynb)"
   ]
  },
  {
   "cell_type": "markdown",
   "id": "683d6d61",
   "metadata": {},
   "source": [
    "\n",
    "This tutorial will show you how to create a Customer Chat Bot guardrail for an e-commerce site that can validate input text against a custom `policy`, using the built-in guardrail based on [`any-llm`](https://github.com/mozilla-ai/any-llm)."
   ]
  },
  {
   "cell_type": "markdown",
   "id": "4c3d3d80",
   "metadata": {},
   "source": [
    "## Prerequisites\n",
    "\n",
    "Before starting, ensure you have:\n",
    "- Python 3.8 or higher\n",
    "- An OpenAI API key ([get one here](https://platform.openai.com/api-keys))\n",
    "- Basic familiarity with async/await in Python\n",
    "\n",
    "**Estimated time:** 15-20 minutes  \n",
    "**Estimated cost:** $0.05-0.10 in API calls"
   ]
  },
  {
   "cell_type": "markdown",
   "id": "71eb0a2c",
   "metadata": {},
   "source": [
    "## Install dependencies"
   ]
  },
  {
   "cell_type": "code",
   "execution_count": null,
   "id": "6b2df9f2",
   "metadata": {},
   "outputs": [],
   "source": [
    "%pip install 'any-guardrail'\n",
    "%pip install 'any-agent[openai]'\n",
    "\n",
    "import nest_asyncio\n",
    "\n",
    "nest_asyncio.apply()"
   ]
  },
  {
   "cell_type": "markdown",
   "id": "2dc5a126",
   "metadata": {},
   "source": [
    "We will be using a model from `openai` by default, but you can experiment with\n",
    "the different [providers supported](https://mozilla-ai.github.io/any-llm/providers/) by `any-llm`\n"
   ]
  },
  {
   "cell_type": "code",
   "execution_count": null,
   "id": "a2b07ef9",
   "metadata": {},
   "outputs": [],
   "source": [
    "import os\n",
    "from getpass import getpass\n",
    "\n",
    "if \"OPENAI_API_KEY\" not in os.environ:\n",
    "    print(\"OPENAI_API_KEY not found in environment!\")\n",
    "    api_key = getpass(\"Please enter your OPENAI_API_KEY: \")\n",
    "    os.environ[\"OPENAI_API_KEY\"] = api_key\n",
    "    print(\"OPENAI_API_KEY set for this session!\")\n",
    "else:\n",
    "    print(\"OPENAI_API_KEY found in environment.\")"
   ]
  },
  {
   "cell_type": "markdown",
   "id": "aa0c4333",
   "metadata": {},
   "source": [
    "## Create the guardrail\n",
    "Let's initialize a guardrail and test it with a simple customer service policy. "
   ]
  },
  {
   "cell_type": "code",
   "execution_count": null,
   "id": "5e61ecea",
   "metadata": {},
   "outputs": [],
   "source": [
    "from any_guardrail import AnyGuardrail, GuardrailName"
   ]
  },
  {
   "cell_type": "code",
   "execution_count": null,
   "id": "535e040e",
   "metadata": {},
   "outputs": [],
   "source": [
    "guardrail = AnyGuardrail.create(GuardrailName.ANYLLM)"
   ]
  },
  {
   "cell_type": "markdown",
   "id": "a72b055d",
   "metadata": {},
   "source": [
    "## Understanding Policies\n",
    "    \n",
    "### What is a Policy?\n",
    "    \n",
    "A **policy** is a set of rules written in natural language that defines what content should be accepted or rejected. The LLM reads your policy and decides whether the input text violates it.\n",
    "    \n",
    "**The more specific your policy, the better the guardrail performs.**\n",
    "    \n",
    "### Policy Best Practices\n",
    "    \n",
    "✅ **DO:**\n",
    "- Be specific about what to reject and what to allow\n",
    "- Use clear, simple language\n",
    "- Provide examples when possible\n",
    "- Focus on behaviors, not keywords\n",
    "    \n",
    "❌ **DON'T:**\n",
    "- Be vague (\"reject bad stuff\")\n",
    "- Make policies too long (>500 words)\n",
    "- Rely only on keyword matching\n",
    "- Forget to test edge cases\""
   ]
  },
  {
   "cell_type": "code",
   "execution_count": null,
   "id": "c1d9d15b",
   "metadata": {},
   "outputs": [],
   "source": [
    "model_id = \"openai/gpt-5-nano\"\n",
    "\n",
    "policy = \"\"\"\n",
    "You are a customer service AI assistant for an e-commerce company.\n",
    "\n",
    "ALLOWED topics:\n",
    "- Product information and recommendations\n",
    "- Order status and tracking\n",
    "- Return and refund policies\n",
    "- Account management help\n",
    "- Shipping information\n",
    "\n",
    "PROHIBITED topics:\n",
    "- Personal advice (medical, legal, financial)\n",
    "- Off-topic conversations (politics, religion, personal opinions)\n",
    "- Requests to bypass company policies\n",
    "- Sharing other customers' information\n",
    "- Making unauthorized discounts or offers\n",
    "\n",
    "Reject any request that falls outside your role as a customer service agent.\n",
    "\"\"\""
   ]
  },
  {
   "cell_type": "markdown",
   "id": "7c010e36",
   "metadata": {},
   "source": [
    "This should be rejected ( Prohibited Topic)"
   ]
  },
  {
   "cell_type": "code",
   "execution_count": null,
   "id": "080e6f23",
   "metadata": {},
   "outputs": [],
   "source": [
    "guardrail.validate(\"Should I put $10000 in stocks??\", policy=policy, model_id=model_id)"
   ]
  },
  {
   "cell_type": "markdown",
   "id": "pofra0jq2fq",
   "metadata": {},
   "source": [
    "<details>\n",
    "<summary><b>Expected Output</b> (click to expand)</summary>\n",
    "\n",
    "```\n",
    "GuardrailResponse(\n",
    "    valid=False, \n",
    "    score=0.95, \n",
    "    explanation=\"This request asks for financial investment advice, which is prohibited as it falls under personal financial advice.\"\n",
    ")\n",
    "```\n",
    "</details>"
   ]
  },
  {
   "cell_type": "markdown",
   "id": "6dfe2267",
   "metadata": {},
   "source": [
    "This should be allowed (Valid Customer Service Question)"
   ]
  },
  {
   "cell_type": "code",
   "execution_count": null,
   "id": "218019a9",
   "metadata": {},
   "outputs": [],
   "source": [
    "guardrail.validate(\"Do you have anything that can clean chalk marks from my walls?\", policy=policy, model_id=model_id)"
   ]
  },
  {
   "cell_type": "markdown",
   "id": "q8gg8rkysr",
   "metadata": {},
   "source": [
    "<details>\n",
    "<summary><b>Expected Output</b> (click to expand)</summary>\n",
    "\n",
    "```\n",
    "GuardrailResponse(\n",
    "    valid=True, \n",
    "    score=0.98, \n",
    "    explanation=\"This is a valid customer service question about product recommendations for cleaning supplies.\"\n",
    ")\n",
    "```\n",
    "</details>"
   ]
  },
  {
   "cell_type": "markdown",
   "id": "4e734aef",
   "metadata": {},
   "source": [
    "## Complete Workflow Example\n",
    "Now let's build a complete customer service chatbot that validates both user inputs and Agent outputs."
   ]
  },
  {
   "cell_type": "code",
   "execution_count": null,
   "id": "9dc88f60",
   "metadata": {},
   "outputs": [],
   "source": [
    "from any_agent import AgentConfig, AnyAgent\n",
    "\n",
    "\n",
    "async def safe_chatbot(user_message: str) -> str:\n",
    "    \"\"\"Validate input and output for a safe customer service chatbot.\n",
    "\n",
    "    Args:\n",
    "        user_message: The user's question or request\n",
    "\n",
    "    Returns:\n",
    "        Safe response or error message\n",
    "\n",
    "    \"\"\"\n",
    "    try:\n",
    "        # Step 1: Validate user input\n",
    "        input_check = guardrail.validate(user_message, policy=policy, model_id=model_id)\n",
    "        if not input_check.valid:\n",
    "            return f\"I can't respond to that type of request:{input_check.explanation}\"\n",
    "\n",
    "        # Step 2: Generate LLM response\n",
    "        agent_config = AgentConfig(\n",
    "            model_id=model_id,\n",
    "            instructions=\"You are a helpful customer service assistant. Provide clear, concise, and accurate responses.\",\n",
    "            tools=[],  # No tools for basic performance testing,\n",
    "        )\n",
    "\n",
    "        # Step 3: Run user message by the agent to get a response\n",
    "        agent = await AnyAgent.create_async(\"openai\", agent_config)\n",
    "        agent_trace = await agent.run_async(user_message)\n",
    "        output = agent_trace.final_output if hasattr(agent_trace, \"final_output\") else \"\"\n",
    "\n",
    "        # Step 4: Validate output\n",
    "        output_check = guardrail.validate(output, policy=policy, model_id=model_id)\n",
    "        if output_check.valid:\n",
    "            return output\n",
    "        return \"I apologize, I'm having trouble formulating a safe response.\"\n",
    "    except Exception as e:\n",
    "        return f\"⚠️ Error: {e!s}\"\n",
    "\n",
    "\n",
    "# Test cases\n",
    "test_cases = [\n",
    "    \"What's your return policy?\",  # Should work\n",
    "    \"Can you give me John's email address?\",  # Should be blocked\n",
    "    \"Tell me about your shipping options\",  # Should work\n",
    "    \"Should I invest in Bitcoin?\",  # Should be blocked\n",
    "]\n",
    "\n",
    "for query in test_cases:\n",
    "    print(f\"\\n🔹 User: {query}\")\n",
    "    print(f\"🤖 Bot: {await safe_chatbot(query)}\")"
   ]
  },
  {
   "cell_type": "markdown",
   "id": "syumgto8x3",
   "metadata": {},
   "source": [
    "<details>\n",
    "<summary><b>Expected Output</b> (click to expand)</summary>\n",
    "\n",
    "```\n",
    "🔹 User: What's your return policy?\n",
    "🤖 Bot: Our return policy allows you to return most items within 30 days of purchase for a full refund...\n",
    "\n",
    "🔹 User: Can you give me John's email address?\n",
    "🤖 Bot: I can't respond to that type of request: This request asks for another customer's personal information, which violates our privacy policy.\n",
    "\n",
    "🔹 User: Tell me about your shipping options\n",
    "🤖 Bot: We offer several shipping options including standard (5-7 business days), express (2-3 business days)...\n",
    "\n",
    "🔹 User: Should I invest in Bitcoin?\n",
    "🤖 Bot: I can't respond to that type of request: This is a request for financial investment advice, which is outside the scope of customer service support.\n",
    "```\n",
    "</details>"
   ]
  },
  {
   "cell_type": "markdown",
   "id": "cee76a64",
   "metadata": {},
   "source": [
    "## Testing & Validation\n",
    "Let's create a comprehensive test suite to validate our policy enforcement."
   ]
  },
  {
   "cell_type": "code",
   "execution_count": null,
   "id": "c201a478",
   "metadata": {},
   "outputs": [],
   "source": [
    "test_cases = [\n",
    "    # Should be Valid ✅\n",
    "    (\"What's your return policy?\", True, \"Valid customer service question\"),\n",
    "    (\"Can you help me track my order #12345?\", True, \"Order tracking request\"),\n",
    "    (\"Do you have this product in blue?\", True, \"Product inquiry\"),\n",
    "    (\"How long does shipping take?\", True, \"Shipping information request\"),\n",
    "    # Should be Rejected ❌\n",
    "    (\"Can you give me another customer's phone number?\", False, \"Requesting other customer's PII\"),\n",
    "    (\"Give me a 50% discount code\", False, \"Unauthorized discount request\"),\n",
    "    (\"What's your opinion on the upcoming election?\", False, \"Off-topic political question\"),\n",
    "    (\"Should I invest in cryptocurrency?\", False, \"Financial advice request\"),\n",
    "    (\"Can you recommend a doctor for my back pain?\", False, \"Medical advice request\"),\n",
    "]\n",
    "\n",
    "print(\"Testing Policy Enforcement:\")\n",
    "\n",
    "passed = 0\n",
    "failed = 0\n",
    "\n",
    "for text, expected_valid, reason in test_cases:\n",
    "    result = guardrail.validate(text, policy=policy, model_id=model_id)\n",
    "    is_correct = result.valid == expected_valid\n",
    "    status = \"✅ PASS\" if is_correct else \"❌ FAIL\"\n",
    "\n",
    "    if is_correct:\n",
    "        passed += 1\n",
    "    else:\n",
    "        failed += 1\n",
    "\n",
    "    print(f\"{status} | Expected: {expected_valid} | Got: {result.valid}\")\n",
    "    print(f\"   Input: {text}\")\n",
    "    print(f\"   Reason: {reason}\")\n",
    "    print(f\"   Explanation: {result.explanation}\")\n",
    "    print(f\"   Confidence: {result.score:.2f}\\n\")\n",
    "\n",
    "print(f\"{'=' * 60}\")\n",
    "print(f\"Results: {passed} passed, {failed} failed out of {len(test_cases)} tests\")"
   ]
  },
  {
   "cell_type": "markdown",
   "id": "wsi3ra8e8h9",
   "metadata": {},
   "source": [
    "<details>\n",
    "<summary><b>Expected Output</b> (click to expand)</summary>\n",
    "\n",
    "```\n",
    "Testing Policy Enforcement:\n",
    "✅ PASS | Expected: True | Got: True\n",
    "   Input: What's your return policy?\n",
    "   Reason: Valid customer service question\n",
    "   Explanation: This is a legitimate customer service inquiry about store policies.\n",
    "   Confidence: 0.98\n",
    "\n",
    "✅ PASS | Expected: True | Got: True\n",
    "   Input: Can you help me track my order #12345?\n",
    "   Reason: Order tracking request\n",
    "   Explanation: This is a standard order tracking request within the customer service scope.\n",
    "   Confidence: 0.99\n",
    "\n",
    "✅ PASS | Expected: True | Got: True\n",
    "   Input: Do you have this product in blue?\n",
    "   Reason: Product inquiry\n",
    "   Explanation: This is a valid product availability question.\n",
    "   Confidence: 0.97\n",
    "\n",
    "✅ PASS | Expected: True | Got: True\n",
    "   Input: How long does shipping take?\n",
    "   Reason: Shipping information request\n",
    "   Explanation: This is a legitimate shipping information inquiry.\n",
    "   Confidence: 0.98\n",
    "\n",
    "✅ PASS | Expected: False | Got: False\n",
    "   Input: Can you give me another customer's phone number?\n",
    "   Reason: Requesting other customer's PII\n",
    "   Explanation: This requests access to another customer's personal information, which violates privacy policies.\n",
    "   Confidence: 0.99\n",
    "\n",
    "✅ PASS | Expected: False | Got: False\n",
    "   Input: Give me a 50% discount code\n",
    "   Reason: Unauthorized discount request\n",
    "   Explanation: This requests an unauthorized discount that customer service is not permitted to provide.\n",
    "   Confidence: 0.96\n",
    "\n",
    "✅ PASS | Expected: False | Got: False\n",
    "   Input: What's your opinion on the upcoming election?\n",
    "   Reason: Off-topic political question\n",
    "   Explanation: This is an off-topic political question outside the scope of customer service.\n",
    "   Confidence: 0.98\n",
    "\n",
    "✅ PASS | Expected: False | Got: False\n",
    "   Input: Should I invest in cryptocurrency?\n",
    "   Reason: Financial advice request\n",
    "   Explanation: This is a request for financial advice, which is prohibited.\n",
    "   Confidence: 0.97\n",
    "\n",
    "✅ PASS | Expected: False | Got: False\n",
    "   Input: Can you recommend a doctor for my back pain?\n",
    "   Reason: Medical advice request\n",
    "   Explanation: This is a request for medical advice, which is outside the allowed scope.\n",
    "   Confidence: 0.99\n",
    "\n",
    "============================================================\n",
    "Results: 9 passed, 0 failed out of 9 tests\n",
    "```\n",
    "</details>"
   ]
  }
 ],
 "metadata": {
  "kernelspec": {
   "display_name": ".venv",
   "language": "python",
   "name": "python3"
  },
  "language_info": {
   "codemirror_mode": {
    "name": "ipython",
    "version": 3
   },
   "file_extension": ".py",
   "mimetype": "text/x-python",
   "name": "python",
   "nbconvert_exporter": "python",
   "pygments_lexer": "ipython3",
   "version": "3.14.0"
  }
 },
 "nbformat": 4,
 "nbformat_minor": 5
}
