{
 "cells": [
  {
   "cell_type": "code",
   "execution_count": 11,
   "id": "ddc77ae3-6304-46f1-9f6c-76a1f06b0052",
   "metadata": {},
   "outputs": [],
   "source": [
    "import pandas as pd\n",
    "from any_guardrail import AnyGuardrail, GuardrailName\n",
    "import huggingface_hub\n",
    "import json\n",
    "from sklearn.metrics import f1_score, precision_score, recall_score, confusion_matrix\n",
    "from collections import defaultdict"
   ]
  },
  {
   "cell_type": "code",
   "execution_count": 13,
   "id": "612d4a74-f2d3-416d-82af-7b4b8ad8dda7",
   "metadata": {},
   "outputs": [
    {
     "name": "stderr",
     "output_type": "stream",
     "text": [
      "INFO:flow_judge.models.huggingface:Downloading the model from Hugging Face Hub using hf-transferfor faster downloads...\n"
     ]
    },
    {
     "data": {
      "application/vnd.jupyter.widget-view+json": {
       "model_id": "7d31a618ba4f43f891ab186b5917f503",
       "version_major": 2,
       "version_minor": 0
      },
      "text/plain": [
       "Fetching 12 files:   0%|          | 0/12 [00:00<?, ?it/s]"
      ]
     },
     "metadata": {},
     "output_type": "display_data"
    },
    {
     "name": "stderr",
     "output_type": "stream",
     "text": [
      "INFO:accelerate.utils.modeling:We will use 90% of the memory on device 0 for storing the model, and 10% for the buffer to avoid OOM. You can set `max_memory` in to a higher value to use more memory (at your own risk).\n"
     ]
    },
    {
     "data": {
      "application/vnd.jupyter.widget-view+json": {
       "model_id": "957e71885a4a4cc089c175f0fc751f57",
       "version_major": 2,
       "version_minor": 0
      },
      "text/plain": [
       "Loading checkpoint shards:   0%|          | 0/2 [00:00<?, ?it/s]"
      ]
     },
     "metadata": {},
     "output_type": "display_data"
    }
   ],
   "source": [
    "name = \"Function Calling Judge\"\n",
    "criteria = \"\"\"\n",
    "Based on the user query and the response provided by the LLM, does the function call meet the following properties:\n",
    "\n",
    "1. It provides enough parameters to execute the function call.\n",
    "2. The chosen function call is relevant to the user task.\n",
    "3. The chosen function is an available function for this task.\n",
    "\n",
    "The function call must meet all three properties in order to be successful.\n",
    "\"\"\"\n",
    "\n",
    "rubric = {\n",
    "    0: \"The function call does not have enough parameters or it it is not relevant or it is does not exist in the tools available to the agent\",\n",
    "    1: \"The function call meets one of the criteria: has enough parameters or has a call that is relevant to the task or the chosen function is in the tool list.\",\n",
    "    2: \"The function all meets two of the criteria: has enough parameters or has a call that is relevant to the task or the chosen function is in the tool list.\",\n",
    "    3: \"The function call meets all the criteria: : has enough parameters or has a call that is relevant to the task or the chosen function is in the tool list.\"\n",
    "}\n",
    "\n",
    "required_inputs = ['conversation']\n",
    "required_output = \"response\"\n",
    "\n",
    "flowjudge = AnyGuardrail.create(GuardrailName.FLOWJUDGE, name=name, criteria=criteria, rubric=rubric, required_inputs=required_inputs, required_output=required_output)"
   ]
  },
  {
   "cell_type": "code",
   "execution_count": 14,
   "id": "75125f62-92af-4c5c-9646-672a35871f6f",
   "metadata": {},
   "outputs": [
    {
     "data": {
      "application/vnd.jupyter.widget-view+json": {
       "model_id": "aa9ab3fc95ee4a9b8d92922f7c57c800",
       "version_major": 2,
       "version_minor": 0
      },
      "text/plain": [
       "Loading checkpoint shards:   0%|          | 0/4 [00:00<?, ?it/s]"
      ]
     },
     "metadata": {},
     "output_type": "display_data"
    },
    {
     "name": "stderr",
     "output_type": "stream",
     "text": [
      "Device set to use cuda:0\n"
     ]
    }
   ],
   "source": [
    "pass_criteria = \"\"\"\n",
    "Based on the INPUT and the OUTPUT provided by the LLM, does the function call meet the following properties:\n",
    "\n",
    "1. It provides enough parameters to execute the function call.\n",
    "2. The chosen function call is relevant to the user task.\n",
    "3. The chosen function is an available function for this task.\n",
    "\n",
    "The function call must meet all three properties in order to be successful.\n",
    "\"\"\"\n",
    "\n",
    "rubric = \"\"\"\n",
    "0: The function call does not have enough parameters or it it is not relevant or it is does not exist in the tools available to the OUTPUT\n",
    "1: The function call meets one of the criteria: has enough parameters or has a call that is relevant to the task or the chosen function is in the OUTPUT.\n",
    "2: The function all meets two of the criteria: has enough parameters or has a call that is relevant to the task or the chosen function is in the OUTPUT.\n",
    "3: The function call meets all the criteria: : has enough parameters or has a call that is relevant to the task or the chosen function is in the OUTPUT.\n",
    "\"\"\"\n",
    "\n",
    "glider = AnyGuardrail.create(GuardrailName.GLIDER, pass_criteria=pass_criteria, rubric=rubric)"
   ]
  },
  {
   "cell_type": "code",
   "execution_count": 6,
   "id": "eb2031ea-98c5-4808-b263-3a4a47e0e26d",
   "metadata": {},
   "outputs": [],
   "source": [
    "with open(\"/home/dni138/data/single-turn.json\", \"r\") as f:\n",
    "    hammerbench_data = json.load(f)"
   ]
  },
  {
   "cell_type": "code",
   "execution_count": 19,
   "id": "83cd6ccf-190f-4e6c-80e9-3e764eee4d60",
   "metadata": {},
   "outputs": [
    {
     "data": {
      "text/plain": [
       "13054"
      ]
     },
     "execution_count": 19,
     "metadata": {},
     "output_type": "execute_result"
    }
   ],
   "source": [
    "len(hammerbench_data)"
   ]
  },
  {
   "cell_type": "code",
   "execution_count": 23,
   "id": "42ea18d3-ab90-453b-b757-b933743a6433",
   "metadata": {},
   "outputs": [],
   "source": [
    "def function_calling_experiment(model_dict, benchmark, keys=[\"messages\", \"tools\"]):\n",
    "    results = defaultdict(list)\n",
    "    for model_name, model in model_dict.items():\n",
    "        for row in benchmark:\n",
    "            conversation = str(row[\"messages\"])\n",
    "            tools = str(row[\"tools\"])\n",
    "            if model_name == \"FlowJudge\":\n",
    "                inputs = [{required_inputs[0]: conversation}]\n",
    "                output = {required_output: tools}\n",
    "                results[model_name].append(model.validate(inputs, output))\n",
    "            elif model_name == \"Glider\":\n",
    "                results[model_name].append(model.validate(conversation, tools))\n",
    "            else:\n",
    "                return None\n",
    "            results[\"benchmark_id\"].append(row[\"id\"])\n",
    "\n",
    "    return results"
   ]
  },
  {
   "cell_type": "code",
   "execution_count": 24,
   "id": "0ea68914-f465-46a4-a991-098af30cad67",
   "metadata": {},
   "outputs": [
    {
     "name": "stderr",
     "output_type": "stream",
     "text": [
      "WARNING:flow_judge.eval_data_types:Parsing failed for response: <feedback>\n",
      "The function call provided in the output does not meet the criteria specified in the evaluation rubric. \n",
      "\n",
      "1. It does not provide enough parameters to execute the function call. The function call for \"ConvenientLiving.AutoLife.searchUsedCars\" requires specific parameters such as 'brand', 'keywords', 'year', 'mileage', 'location', 'condition', 'price', 'transmission', 'fuel', 'options', 'extras', 'title', 'vehicle_id', 'vin', 'insurance', 'financing', 'dealer', 'dealer_location', 'dealer_name', 'dealer_phone', 'dealer_email', 'dealer_website', 'dealer_rating', 'dealer_reviews', 'dealer_location_description', 'dealer_address', 'dealer_city', 'dealer_state', 'dealer_zip', 'dealer_country', 'dealer_phone_number', 'dealer_fax', 'dealer_email', 'dealer_website', 'dealer_rating', 'dealer_reviews', 'dealer_location_description', 'dealer_address', 'dealer_city', 'dealer_state', 'dealer_zip', 'dealer_country', 'dealer_phone_number', 'dealer_fax', 'dealer_email', 'dealer_website', 'dealer_rating', 'dealer_reviews', 'dealer_location_description', 'dealer_address', 'dealer_city', 'dealer_state', 'dealer_zip', 'dealer_country', 'dealer_phone_number', 'dealer_fax', 'dealer_email', 'dealer_website', 'dealer_rating', 'dealer_reviews', 'dealer_location_description', 'dealer_address', 'dealer_city', 'dealer_state', 'dealer_zip', 'dealer_country', 'dealer_phone_number', 'dealer_fax', 'dealer_email', 'dealer_website', 'dealer_rating', 'dealer_reviews', 'dealer_location_description', 'dealer_address', 'dealer_city', 'dealer_state', 'dealer_zip', 'dealer_country', 'dealer_phone_number', 'dealer_fax', 'dealer_email', 'dealer_website', 'dealer_rating', 'dealer_reviews', 'dealer_location_description', 'dealer_address', 'dealer_city', 'dealer_state', 'dealer_zip', 'dealer_country', 'dealer_phone_number', 'dealer_fax', 'dealer_email', 'dealer_website', 'dealer_rating', 'dealer_reviews', 'dealer_location_description', 'dealer_address', 'dealer_city', 'dealer_state', 'dealer_zip', 'dealer_country', 'dealer_phone_number', 'dealer_fax', 'dealer_email', 'dealer_website', 'dealer_rating', 'dealer_reviews', 'dealer_location_description', 'dealer_address', 'dealer_city', 'dealer_state', 'dealer_zip', 'dealer_country', 'dealer_phone_number', 'dealer_fax', 'dealer_email', 'dealer_website', 'dealer_rating', 'dealer_reviews', 'dealer_location_description', 'dealer_address', 'dealer_city', 'dealer_state', 'dealer_zip', 'dealer_country', 'dealer_phone_number', 'dealer_fax', 'dealer_email', 'dealer_website', 'dealer_rating', 'dealer_reviews', 'dealer_location_description', 'dealer_address', 'dealer_city', 'dealer_state', 'dealer_zip', 'dealer_country', 'dealer_phone_number', 'dealer_fax', 'dealer_email', 'dealer_website', 'dealer_rating', 'dealer_reviews', 'dealer_location_description', 'dealer_address', 'dealer_city', 'dealer_state', 'dealer_zip', 'dealer_country', 'dealer_phone_number', 'de. Error: Failed to parse evaluation response.\n",
      "You seem to be using the pipelines sequentially on GPU. In order to maximize efficiency please use a dataset\n"
     ]
    }
   ],
   "source": [
    "model_dict = {\n",
    "    \"FlowJudge\": flowjudge,\n",
    "    \"Glider\": glider\n",
    "}\n",
    "\n",
    "results = function_calling_experiment(model_dict, hammerbench_data)"
   ]
  },
  {
   "cell_type": "code",
   "execution_count": 26,
   "id": "3e814248-4d10-4772-9d4b-2ec56f717b7c",
   "metadata": {},
   "outputs": [
    {
     "data": {
      "text/plain": [
       "'ST-External'"
      ]
     },
     "execution_count": 26,
     "metadata": {},
     "output_type": "execute_result"
    }
   ],
   "source": [
    "results[\"benchmark_id\"][0]"
   ]
  },
  {
   "cell_type": "code",
   "execution_count": 27,
   "id": "224c6369-c920-4111-bf20-f2a3bbdb56d9",
   "metadata": {},
   "outputs": [],
   "source": [
    "unwrapped_flowjudge = defaultdict(list)\n",
    "unwrapped_glider = defaultdict(list)\n",
    "\n",
    "for glider, flowjudge, b_id in zip(results[\"Glider\"], results[\"FlowJudge\"], results[\"benchmark_id\"]):\n",
    "    unwrapped_glider[\"explanation\"].append(glider.explanation)\n",
    "    unwrapped_glider[\"score\"].append(glider.score)\n",
    "    unwrapped_glider[\"b_id\"].append(b_id)\n",
    "\n",
    "    unwrapped_flowjudge[\"explanation\"].append(flowjudge.explanation)\n",
    "    unwrapped_flowjudge[\"score\"].append(flowjudge.score)\n",
    "    unwrapped_flowjudge[\"b_id\"].append(b_id)"
   ]
  },
  {
   "cell_type": "code",
   "execution_count": 28,
   "id": "c7882442-af61-4309-b0e5-fc942a422153",
   "metadata": {},
   "outputs": [],
   "source": [
    "flowjudge_df = pd.DataFrame(unwrapped_flowjudge)"
   ]
  },
  {
   "cell_type": "code",
   "execution_count": 29,
   "id": "3d81bcaa-58bd-4947-ac42-8a89e68216a4",
   "metadata": {},
   "outputs": [
    {
     "data": {
      "text/html": [
       "<div>\n",
       "<style scoped>\n",
       "    .dataframe tbody tr th:only-of-type {\n",
       "        vertical-align: middle;\n",
       "    }\n",
       "\n",
       "    .dataframe tbody tr th {\n",
       "        vertical-align: top;\n",
       "    }\n",
       "\n",
       "    .dataframe thead th {\n",
       "        text-align: right;\n",
       "    }\n",
       "</style>\n",
       "<table border=\"1\" class=\"dataframe\">\n",
       "  <thead>\n",
       "    <tr style=\"text-align: right;\">\n",
       "      <th></th>\n",
       "      <th>explanation</th>\n",
       "      <th>score</th>\n",
       "      <th>b_id</th>\n",
       "    </tr>\n",
       "  </thead>\n",
       "  <tbody>\n",
       "    <tr>\n",
       "      <th>0</th>\n",
       "      <td>The function call provided in the output does ...</td>\n",
       "      <td>2</td>\n",
       "      <td>ST-External</td>\n",
       "    </tr>\n",
       "    <tr>\n",
       "      <th>1</th>\n",
       "      <td>The function call provided in the output does ...</td>\n",
       "      <td>1</td>\n",
       "      <td>ST-External</td>\n",
       "    </tr>\n",
       "    <tr>\n",
       "      <th>2</th>\n",
       "      <td>The function call provided in the output does ...</td>\n",
       "      <td>3</td>\n",
       "      <td>ST-External</td>\n",
       "    </tr>\n",
       "    <tr>\n",
       "      <th>3</th>\n",
       "      <td>The function call provided in the output does ...</td>\n",
       "      <td>1</td>\n",
       "      <td>ST-External</td>\n",
       "    </tr>\n",
       "    <tr>\n",
       "      <th>4</th>\n",
       "      <td>The function call provided in the output does ...</td>\n",
       "      <td>0</td>\n",
       "      <td>ST-External</td>\n",
       "    </tr>\n",
       "    <tr>\n",
       "      <th>...</th>\n",
       "      <td>...</td>\n",
       "      <td>...</td>\n",
       "      <td>...</td>\n",
       "    </tr>\n",
       "    <tr>\n",
       "      <th>13049</th>\n",
       "      <td>The function call provided in the output does ...</td>\n",
       "      <td>0</td>\n",
       "      <td>ir-ST-Perfect</td>\n",
       "    </tr>\n",
       "    <tr>\n",
       "      <th>13050</th>\n",
       "      <td>The function call provided in the output does ...</td>\n",
       "      <td>1</td>\n",
       "      <td>ir-ST-Perfect</td>\n",
       "    </tr>\n",
       "    <tr>\n",
       "      <th>13051</th>\n",
       "      <td>The function call provided in the output does ...</td>\n",
       "      <td>0</td>\n",
       "      <td>ir-ST-Perfect</td>\n",
       "    </tr>\n",
       "    <tr>\n",
       "      <th>13052</th>\n",
       "      <td>The function call provided in the output does ...</td>\n",
       "      <td>0</td>\n",
       "      <td>ir-ST-Perfect</td>\n",
       "    </tr>\n",
       "    <tr>\n",
       "      <th>13053</th>\n",
       "      <td>The function call provided in the output does ...</td>\n",
       "      <td>0</td>\n",
       "      <td>ir-ST-Perfect</td>\n",
       "    </tr>\n",
       "  </tbody>\n",
       "</table>\n",
       "<p>13054 rows × 3 columns</p>\n",
       "</div>"
      ],
      "text/plain": [
       "                                             explanation  score           b_id\n",
       "0      The function call provided in the output does ...      2    ST-External\n",
       "1      The function call provided in the output does ...      1    ST-External\n",
       "2      The function call provided in the output does ...      3    ST-External\n",
       "3      The function call provided in the output does ...      1    ST-External\n",
       "4      The function call provided in the output does ...      0    ST-External\n",
       "...                                                  ...    ...            ...\n",
       "13049  The function call provided in the output does ...      0  ir-ST-Perfect\n",
       "13050  The function call provided in the output does ...      1  ir-ST-Perfect\n",
       "13051  The function call provided in the output does ...      0  ir-ST-Perfect\n",
       "13052  The function call provided in the output does ...      0  ir-ST-Perfect\n",
       "13053  The function call provided in the output does ...      0  ir-ST-Perfect\n",
       "\n",
       "[13054 rows x 3 columns]"
      ]
     },
     "execution_count": 29,
     "metadata": {},
     "output_type": "execute_result"
    }
   ],
   "source": [
    "flowjudge_df"
   ]
  },
  {
   "cell_type": "markdown",
   "id": "2a30c3fd-6199-41d5-b0ab-2bcf78f22d3e",
   "metadata": {},
   "source": [
    "# Analyzing the data"
   ]
  },
  {
   "cell_type": "code",
   "execution_count": 1,
   "id": "ad2de713-b0e6-43f8-ab65-823b0c3f2e3a",
   "metadata": {},
   "outputs": [],
   "source": [
    "import pandas as pd\n",
    "from sklearn.metrics import f1_score, precision_score, recall_score, confusion_matrix"
   ]
  },
  {
   "cell_type": "code",
   "execution_count": 2,
   "id": "bd2cbf36-d91a-401d-b16a-b80fb9ce9976",
   "metadata": {},
   "outputs": [],
   "source": [
    "flowjudge_data = pd.read_csv(\"flowjudge_fc_results.csv\")"
   ]
  },
  {
   "cell_type": "code",
   "execution_count": 3,
   "id": "923016fc-2167-4f49-bf62-f391e42b94f5",
   "metadata": {},
   "outputs": [
    {
     "data": {
      "text/plain": [
       "array(['ST-External', 'ST-Imperfect', 'ST-Perfect', 'ir-ST-External',\n",
       "       'ir-ST-Imperfect', 'ir-ST-Perfect'], dtype=object)"
      ]
     },
     "execution_count": 3,
     "metadata": {},
     "output_type": "execute_result"
    }
   ],
   "source": [
    "flowjudge_data.b_id.unique()"
   ]
  },
  {
   "cell_type": "code",
   "execution_count": 4,
   "id": "455cf28b-c1a8-40ba-85db-2cd767de5a49",
   "metadata": {},
   "outputs": [
    {
     "data": {
      "text/plain": [
       "score\n",
       "1    532\n",
       "0    343\n",
       "2    235\n",
       "3     65\n",
       "Name: count, dtype: int64"
      ]
     },
     "execution_count": 4,
     "metadata": {},
     "output_type": "execute_result"
    }
   ],
   "source": [
    "flowjudge_data[flowjudge_data.b_id == \"ST-External\"].score.value_counts()"
   ]
  },
  {
   "cell_type": "code",
   "execution_count": 9,
   "id": "ed7c1dfc-5c30-447a-9491-38bd30221f67",
   "metadata": {},
   "outputs": [
    {
     "data": {
      "text/plain": [
       "\"The function call provided in the output does not meet the criteria specified in the evaluation rubric. \\n\\n1. **Parameters**: The function call `SystemTools.SystemSettings.OpenApp` has the necessary parameters (`app_name`) to execute the function call.\\n2. **Relevance**: The chosen function call is relevant to the user task of opening the Taobao App.\\n3. **Availability**: The function `SystemTools.SystemSettings.OpenApp` is available in the tool list provided in the output.\\n\\nHowever, the output includes multiple other function calls that are not relevant to the user's task of opening the Taobao App. The presence of these extraneous function calls does not affect the evaluation of the specific function call in question, but it does indicate that the output is not entirely focused on the user's request.\\n\\nGiven that the function call meets all three criteria, it should be scored accordingly.\""
      ]
     },
     "execution_count": 9,
     "metadata": {},
     "output_type": "execute_result"
    }
   ],
   "source": [
    "flowjudge_data[flowjudge_data.b_id==\"ST-Perfect\"].loc[[6528]].explanation[6528]"
   ]
  },
  {
   "cell_type": "code",
   "execution_count": 5,
   "id": "2598d699-61fb-46bf-a6fb-25e0cd274821",
   "metadata": {},
   "outputs": [],
   "source": [
    "glider_data = pd.read_csv(\"glider_fc_results.csv\")"
   ]
  },
  {
   "cell_type": "code",
   "execution_count": 6,
   "id": "20e78b4d-1b7c-49dc-a67c-5d2153b254ca",
   "metadata": {},
   "outputs": [
    {
     "data": {
      "text/plain": [
       "score\n",
       "3.0    492\n",
       "0.0    255\n",
       "1.0    234\n",
       "2.0    174\n",
       "Name: count, dtype: int64"
      ]
     },
     "execution_count": 6,
     "metadata": {},
     "output_type": "execute_result"
    }
   ],
   "source": [
    "glider_data[glider_data.b_id == \"ST-External\"].score.value_counts()"
   ]
  },
  {
   "cell_type": "code",
   "execution_count": 33,
   "id": "d1a9ab17-75f5-4106-8654-8ab0125cce2e",
   "metadata": {},
   "outputs": [],
   "source": [
    "mapping = {\n",
    "    \"ST-Perfect\": True,\n",
    "    \"ir-ST-Perfect\": False,\n",
    "    \"ST-Imperfect\": False,\n",
    "    \"ir-ST-Imperfect\": False,\n",
    "    \"ST-External\": False,\n",
    "    \"ir-ST-External\": False\n",
    "}"
   ]
  },
  {
   "cell_type": "code",
   "execution_count": 39,
   "id": "e971df57-f518-457b-a8c2-0b2178b01bf7",
   "metadata": {},
   "outputs": [
    {
     "name": "stdout",
     "output_type": "stream",
     "text": [
      "0.0885483184333759\n",
      "0.04914933837429111\n",
      "0.44635193133047213\n",
      "[[10809  2012]\n",
      " [  129   104]]\n"
     ]
    }
   ],
   "source": [
    "print(f1_score(flowjudge_data.score.map(lambda x : x>2), flowjudge_data.b_id.map(mapping)))\n",
    "print(precision_score(flowjudge_data.score.map(lambda x : x>2), flowjudge_data.b_id.map(mapping)))\n",
    "print(recall_score(flowjudge_data.score.map(lambda x : x>2), flowjudge_data.b_id.map(mapping)))\n",
    "print(confusion_matrix(flowjudge_data.score.map(lambda x : x>2), flowjudge_data.b_id.map(mapping)))"
   ]
  },
  {
   "cell_type": "code",
   "execution_count": 37,
   "id": "67501615-8f28-4a20-91bc-ba676b4fc272",
   "metadata": {},
   "outputs": [
    {
     "data": {
      "text/plain": [
       "0.3764379214597382"
      ]
     },
     "execution_count": 37,
     "metadata": {},
     "output_type": "execute_result"
    }
   ],
   "source": [
    "print(f1_score(glider_data.score.map(lambda x : x>2), glider_data.b_id.map(mapping)))\n",
    "print(precision_score(glider_data.score.map(lambda x : x>2), glider_data.b_id.map(mapping)))\n",
    "print(recall_score(glider_data.score.map(lambda x : x>2), flowjudge_data.b_id.map(mapping)))\n",
    "print(confusion_matrix(flowjudge_data.score.map(lambda x : x>2), flowjudge_data.b_id.map(mapping)))"
   ]
  },
  {
   "cell_type": "code",
   "execution_count": null,
   "id": "c4a15fcf-b491-459f-a5fd-ef639e6abe4f",
   "metadata": {},
   "outputs": [],
   "source": []
  }
 ],
 "metadata": {
  "kernelspec": {
   "display_name": "Python 3 (ipykernel)",
   "language": "python",
   "name": "python3"
  },
  "language_info": {
   "codemirror_mode": {
    "name": "ipython",
    "version": 3
   },
   "file_extension": ".py",
   "mimetype": "text/x-python",
   "name": "python",
   "nbconvert_exporter": "python",
   "pygments_lexer": "ipython3",
   "version": "3.12.3"
  }
 },
 "nbformat": 4,
 "nbformat_minor": 5
}
